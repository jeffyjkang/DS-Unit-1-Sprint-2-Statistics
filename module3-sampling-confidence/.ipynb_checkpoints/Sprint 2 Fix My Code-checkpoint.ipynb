{
 "cells": [
  {
   "cell_type": "markdown",
   "metadata": {
    "id": "ceuawtROodfW"
   },
   "source": [
    "# Can you fix my code?\n",
    "\n",
    "I tried to complete yesterday's activity but I have so many errors!  Can you find and fix them all?\n",
    "\n"
   ]
  },
  {
   "cell_type": "markdown",
   "metadata": {
    "id": "Q6x9gnZ4mY84"
   },
   "source": [
    "\n",
    "\n",
    "### Dataset description:\n",
    "\n",
    "Slasher movies thrill audiences by portraying a lone antagonist (typically male) who attacks innocent victims with extreme violence and without apparent motive. However, this exciting (if gory) subgenre of horror film is criticized by those who view the violence as being used to “punish” female characters who engage in sexual activity during the film. \n",
    "\n",
    "To test this claim, study authors randomly sampled 50 North American slasher films released from 1960 to 2009 and coded the 485 characters appearing in them as being male or female, involved in sexual activity or not, and if they survived the film or not. \n",
    "\n",
    "The data appears in the Slasher.csv dataset. In this project, we are going to answer a slightly simpler question: Are female characters in slasher films more likely to be \"murdered\" than male characters?\n",
    "\n",
    "Source: A. Welsh (2010). \"On the Perils of Living Dangerously in the Slasher Horror Film: Gender Differences in the Association Between Sexual Activity and Survival,\" Sex Roles, Vol. 62 pp. 762-773\n",
    "\n",
    "You can find the Slasher.csv file here:\n",
    "\n",
    "<https://raw.githubusercontent.com/Chelsea-Myers/Lambda-Intro/master/Slasher.csv>\n",
    "\n"
   ]
  },
  {
   "cell_type": "markdown",
   "metadata": {
    "id": "QnqpG9fOaUy-"
   },
   "source": [
    "\n",
    "\n",
    "### 1) Load the Slasher.csv dataset in a new dataframe.\n",
    "\n"
   ]
  },
  {
   "cell_type": "code",
   "execution_count": null,
   "metadata": {
    "id": "UQwvrhn7m3Mn"
   },
   "outputs": [],
   "source": [
    "# Imports\n",
    "import pandas as pd\n",
    "import numpy as np\n",
    "\n",
    "# Load the dataset\n",
    "data_url = 'https://raw.githubusercontent.com/Chelsea-Myers/Lambda-Intro/master/Slasher.csv'\n",
    "\n",
    "df = pd.read_csv(skipinitialspace=True, header=0)\n"
   ]
  },
  {
   "cell_type": "markdown",
   "metadata": {
    "id": "llP1_XV0ak8C"
   },
   "source": [
    "###2) Display the top 5 rows of the dataframe to take a look at the variable names and values."
   ]
  },
  {
   "cell_type": "code",
   "execution_count": null,
   "metadata": {
    "id": "Ws10E-kqayJZ"
   },
   "outputs": [],
   "source": [
    "print(df.shape)\n",
    "head()"
   ]
  },
  {
   "cell_type": "markdown",
   "metadata": {
    "id": "PAHPjE4Ea52w"
   },
   "source": [
    "The variable codes are:\n",
    "\n",
    "ID = Character ID\n",
    "\n",
    "Gender = Character gender.  0 = female, 1 = male\n",
    "\n",
    "Activity = Character was portrayed as engaged in sexual activity.  0 = no, 1 = yes\n",
    "\n",
    "Survival = Character survival in the film. 0 = did not survive, 1 = survived"
   ]
  },
  {
   "cell_type": "markdown",
   "metadata": {
    "id": "pabzhfvLbdFZ"
   },
   "source": [
    "###3) Calculate the frequency and relative frequency of male and female characters in this set of slasher films.  Describe your results in a sentence or two."
   ]
  },
  {
   "cell_type": "code",
   "execution_count": null,
   "metadata": {
    "id": "9gIQaRsQbt77"
   },
   "outputs": [],
   "source": [
    "Gender = pd.crosstab(index=df[\"Gender\"], columns=\"counts\")\n",
    "print(Gender)\n",
    "\n",
    "Gender/Gender.sum()*100"
   ]
  },
  {
   "cell_type": "markdown",
   "metadata": {
    "id": "jnfrbmCvnMM_"
   },
   "source": [
    "###4) Calculate the frequency and relative frequency of character survival in this set of slasher films.  Describe your results in a sentence or two."
   ]
  },
  {
   "cell_type": "code",
   "execution_count": null,
   "metadata": {
    "id": "eATj3sKHnU_c"
   },
   "outputs": [],
   "source": [
    "Survival = pd.crosstab(index=df[\"Survival\"])\n",
    "print(Survival)\n",
    "\n",
    "Survival/Survival.sum()*100"
   ]
  },
  {
   "cell_type": "markdown",
   "metadata": {
    "id": "0K1kuj8yb5BD"
   },
   "source": [
    "###5) Calculate the joint distribution of character sex and movie survival. Add the table margins.  \n",
    "\n",
    "Hint: If you are working off of the in-class examples, it will be helpful to include character sex as the index variable. \n",
    "\n",
    "Describe your results in a sentence or two."
   ]
  },
  {
   "cell_type": "code",
   "execution_count": null,
   "metadata": {
    "id": "lBqo9mPJcApw"
   },
   "outputs": [],
   "source": [
    "crosstab(df['Gender'],df['Survival'])"
   ]
  },
  {
   "cell_type": "code",
   "execution_count": null,
   "metadata": {
    "id": "PAe3sdeqoLnh"
   },
   "outputs": [],
   "source": [
    "pd.crosstab(df['Gender'],df['Survival'],normalize=True)"
   ]
  },
  {
   "cell_type": "markdown",
   "metadata": {
    "id": "Pf9boTsRpe9J"
   },
   "source": [
    "###6) Calculate the distribution of survival conditional on character sex.\n",
    "Hint: If you are working off of the in-class examples, it will be helpful to include character sex as the index variable. \n",
    "\n",
    "Describe your results in a sentence or two."
   ]
  },
  {
   "cell_type": "code",
   "execution_count": null,
   "metadata": {
    "id": "ByWE_M1RpqSy"
   },
   "outputs": [],
   "source": [
    "pd.crosstab(df['Gender'],df['Survival'],normalize=\"column\")*100"
   ]
  },
  {
   "cell_type": "markdown",
   "metadata": {
    "id": "RXPZZuAi3ccI"
   },
   "source": [
    "### 8) Perform the chi-square test above using `stats.chi2_contingency()` and output the p-value.\n"
   ]
  },
  {
   "cell_type": "code",
   "execution_count": null,
   "metadata": {
    "id": "Ckcr4A4FM7cs"
   },
   "outputs": [],
   "source": [
    "from scipy.stats import chi2_contingency\n",
    "\n",
    "g, p, dof, expctd = chi2_contingency(pd.crosstab(df['Gender'],df['Survival']))\n",
    "\n",
    "print(dof)"
   ]
  },
  {
   "cell_type": "markdown",
   "metadata": {
    "id": "6fuCbToDLTO0"
   },
   "source": [
    "### 10) Create a side-by-side bar plot to illustrate the relationship between character sex and survival in slasher movies.  Sum up your overall results in a sentence or two."
   ]
  },
  {
   "cell_type": "code",
   "execution_count": null,
   "metadata": {
    "id": "Et5DtusY6maX"
   },
   "outputs": [],
   "source": [
    "import matplotlib.pyplot as plt\n",
    "\n",
    "N = 10 #Need this for graphing purposes - it's the number of passenger classes\n",
    "\n",
    "\n",
    "Died = (87, 77) # Percent that died in each ticket class\n",
    "Survived = (13, 23) #Percent that survived in each ticket class\n",
    "\n",
    "#This is more graphical stuff\n",
    "ind = np.arange(N)  # the x locations for the groups\n",
    "width = 0.35       # the width of the bars\n",
    "\n",
    "#Create the plot\n",
    "fig, ax = plt.subplots()\n",
    "rects1 = ax.bar(ind, Died, width, color='g') #bars for died\n",
    "rects2 = ax.bar(ind + width, Survived, width, color='b') #bars for survived\n",
    "\n",
    "# add some text for labels, title and axes ticks\n",
    "ax.set_ylabel('Percent')\n",
    "ax.set_title('Percent of Characters Who Survived and Did Not Survive by Gender')\n",
    "ax.set_xticks(ind + width / 2)\n",
    "ax.set_xticklabels(('Male', 'Female'))\n",
    "\n",
    "ax.legend((rects1[0], rects2[0]), ('Did not survive', 'Survived'))"
   ]
  }
 ],
 "metadata": {
  "colab": {
   "collapsed_sections": [],
   "name": "Sprint 2 Fix My Code.ipynb",
   "provenance": [
    {
     "file_id": "1-bB1AG-ZYaa-BCmFQUEEOZFJJmoTr7yR",
     "timestamp": 1605807742443
    },
    {
     "file_id": "https://github.com/ryanleeallred/DS-Unit-1-Sprint-2-Statistics/blob/master/module2/LS_DS_122_Chi2_Tests_Assignment.ipynb",
     "timestamp": 1599294523568
    }
   ]
  },
  "kernelspec": {
   "display_name": "Python 3 (ipykernel)",
   "language": "python",
   "name": "python3"
  },
  "language_info": {
   "codemirror_mode": {
    "name": "ipython",
    "version": 3
   },
   "file_extension": ".py",
   "mimetype": "text/x-python",
   "name": "python",
   "nbconvert_exporter": "python",
   "pygments_lexer": "ipython3",
   "version": "3.9.7"
  }
 },
 "nbformat": 4,
 "nbformat_minor": 1
}
