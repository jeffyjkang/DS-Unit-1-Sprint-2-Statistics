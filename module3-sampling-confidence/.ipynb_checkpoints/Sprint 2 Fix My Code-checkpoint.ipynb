{
 "cells": [
  {
   "cell_type": "markdown",
   "metadata": {
    "id": "ceuawtROodfW"
   },
   "source": [
    "# Can you fix my code?\n",
    "\n",
    "I tried to complete yesterday's activity but I have so many errors!  Can you find and fix them all?\n",
    "\n"
   ]
  },
  {
   "cell_type": "markdown",
   "metadata": {
    "id": "Q6x9gnZ4mY84"
   },
   "source": [
    "\n",
    "\n",
    "### Dataset description:\n",
    "\n",
    "Slasher movies thrill audiences by portraying a lone antagonist (typically male) who attacks innocent victims with extreme violence and without apparent motive. However, this exciting (if gory) subgenre of horror film is criticized by those who view the violence as being used to “punish” female characters who engage in sexual activity during the film. \n",
    "\n",
    "To test this claim, study authors randomly sampled 50 North American slasher films released from 1960 to 2009 and coded the 485 characters appearing in them as being male or female, involved in sexual activity or not, and if they survived the film or not. \n",
    "\n",
    "The data appears in the Slasher.csv dataset. In this project, we are going to answer a slightly simpler question: Are female characters in slasher films more likely to be \"murdered\" than male characters?\n",
    "\n",
    "Source: A. Welsh (2010). \"On the Perils of Living Dangerously in the Slasher Horror Film: Gender Differences in the Association Between Sexual Activity and Survival,\" Sex Roles, Vol. 62 pp. 762-773\n",
    "\n",
    "You can find the Slasher.csv file here:\n",
    "\n",
    "<https://raw.githubusercontent.com/Chelsea-Myers/Lambda-Intro/master/Slasher.csv>\n",
    "\n"
   ]
  },
  {
   "cell_type": "markdown",
   "metadata": {
    "id": "QnqpG9fOaUy-"
   },
   "source": [
    "\n",
    "\n",
    "### 1) Load the Slasher.csv dataset in a new dataframe.\n",
    "\n"
   ]
  },
  {
   "cell_type": "code",
   "execution_count": 2,
   "metadata": {
    "id": "UQwvrhn7m3Mn"
   },
   "outputs": [],
   "source": [
    "# Imports\n",
    "import pandas as pd\n",
    "import numpy as np\n",
    "\n",
    "# Load the dataset\n",
    "data_url = 'https://raw.githubusercontent.com/Chelsea-Myers/Lambda-Intro/master/Slasher.csv'\n",
    "\n",
    "df = pd.read_csv(data_url, skipinitialspace=True, header=0)\n"
   ]
  },
  {
   "cell_type": "markdown",
   "metadata": {
    "id": "llP1_XV0ak8C"
   },
   "source": [
    "###2) Display the top 5 rows of the dataframe to take a look at the variable names and values."
   ]
  },
  {
   "cell_type": "code",
   "execution_count": 4,
   "metadata": {
    "id": "Ws10E-kqayJZ"
   },
   "outputs": [
    {
     "name": "stdout",
     "output_type": "stream",
     "text": [
      "(485, 4)\n"
     ]
    },
    {
     "data": {
      "text/html": [
       "<div>\n",
       "<style scoped>\n",
       "    .dataframe tbody tr th:only-of-type {\n",
       "        vertical-align: middle;\n",
       "    }\n",
       "\n",
       "    .dataframe tbody tr th {\n",
       "        vertical-align: top;\n",
       "    }\n",
       "\n",
       "    .dataframe thead th {\n",
       "        text-align: right;\n",
       "    }\n",
       "</style>\n",
       "<table border=\"1\" class=\"dataframe\">\n",
       "  <thead>\n",
       "    <tr style=\"text-align: right;\">\n",
       "      <th></th>\n",
       "      <th>ID</th>\n",
       "      <th>Gender</th>\n",
       "      <th>Activity</th>\n",
       "      <th>Survival</th>\n",
       "    </tr>\n",
       "  </thead>\n",
       "  <tbody>\n",
       "    <tr>\n",
       "      <th>0</th>\n",
       "      <td>1</td>\n",
       "      <td>1</td>\n",
       "      <td>1</td>\n",
       "      <td>1</td>\n",
       "    </tr>\n",
       "    <tr>\n",
       "      <th>1</th>\n",
       "      <td>2</td>\n",
       "      <td>1</td>\n",
       "      <td>1</td>\n",
       "      <td>1</td>\n",
       "    </tr>\n",
       "    <tr>\n",
       "      <th>2</th>\n",
       "      <td>3</td>\n",
       "      <td>1</td>\n",
       "      <td>1</td>\n",
       "      <td>1</td>\n",
       "    </tr>\n",
       "    <tr>\n",
       "      <th>3</th>\n",
       "      <td>4</td>\n",
       "      <td>1</td>\n",
       "      <td>1</td>\n",
       "      <td>1</td>\n",
       "    </tr>\n",
       "    <tr>\n",
       "      <th>4</th>\n",
       "      <td>5</td>\n",
       "      <td>1</td>\n",
       "      <td>1</td>\n",
       "      <td>1</td>\n",
       "    </tr>\n",
       "  </tbody>\n",
       "</table>\n",
       "</div>"
      ],
      "text/plain": [
       "   ID  Gender  Activity  Survival\n",
       "0   1       1         1         1\n",
       "1   2       1         1         1\n",
       "2   3       1         1         1\n",
       "3   4       1         1         1\n",
       "4   5       1         1         1"
      ]
     },
     "execution_count": 4,
     "metadata": {},
     "output_type": "execute_result"
    }
   ],
   "source": [
    "print(df.shape)\n",
    "df.head()"
   ]
  },
  {
   "cell_type": "markdown",
   "metadata": {
    "id": "PAHPjE4Ea52w"
   },
   "source": [
    "The variable codes are:\n",
    "\n",
    "ID = Character ID\n",
    "\n",
    "Gender = Character gender.  0 = female, 1 = male\n",
    "\n",
    "Activity = Character was portrayed as engaged in sexual activity.  0 = no, 1 = yes\n",
    "\n",
    "Survival = Character survival in the film. 0 = did not survive, 1 = survived"
   ]
  },
  {
   "cell_type": "markdown",
   "metadata": {
    "id": "pabzhfvLbdFZ"
   },
   "source": [
    "###3) Calculate the frequency and relative frequency of male and female characters in this set of slasher films.  Describe your results in a sentence or two."
   ]
  },
  {
   "cell_type": "code",
   "execution_count": 6,
   "metadata": {
    "id": "9gIQaRsQbt77"
   },
   "outputs": [
    {
     "name": "stdout",
     "output_type": "stream",
     "text": [
      "0    263\n",
      "1    222\n",
      "Name: Gender, dtype: int64\n"
     ]
    },
    {
     "data": {
      "text/plain": [
       "0    54.226804\n",
       "1    45.773196\n",
       "Name: Gender, dtype: float64"
      ]
     },
     "execution_count": 6,
     "metadata": {},
     "output_type": "execute_result"
    }
   ],
   "source": [
    "Gender = df[\"Gender\"].value_counts()\n",
    "print(Gender)\n",
    "\n",
    "Gender/Gender.sum()*100"
   ]
  },
  {
   "cell_type": "markdown",
   "metadata": {
    "id": "jnfrbmCvnMM_"
   },
   "source": [
    "###4) Calculate the frequency and relative frequency of character survival in this set of slasher films.  Describe your results in a sentence or two."
   ]
  },
  {
   "cell_type": "code",
   "execution_count": 9,
   "metadata": {
    "id": "eATj3sKHnU_c"
   },
   "outputs": [
    {
     "name": "stdout",
     "output_type": "stream",
     "text": [
      "0    400\n",
      "1     85\n",
      "Name: Survival, dtype: int64\n"
     ]
    },
    {
     "data": {
      "text/plain": [
       "0    82.474227\n",
       "1    17.525773\n",
       "Name: Survival, dtype: float64"
      ]
     },
     "execution_count": 9,
     "metadata": {},
     "output_type": "execute_result"
    }
   ],
   "source": [
    "Survival = df[\"Survival\"].value_counts()\n",
    "print(Survival)\n",
    "\n",
    "Survival/Survival.sum()*100"
   ]
  },
  {
   "cell_type": "markdown",
   "metadata": {
    "id": "0K1kuj8yb5BD"
   },
   "source": [
    "###5) Calculate the joint distribution of character sex and movie survival. Add the table margins.  \n",
    "\n",
    "Hint: If you are working off of the in-class examples, it will be helpful to include character sex as the index variable. \n",
    "\n",
    "Describe your results in a sentence or two."
   ]
  },
  {
   "cell_type": "code",
   "execution_count": 12,
   "metadata": {
    "id": "lBqo9mPJcApw"
   },
   "outputs": [
    {
     "data": {
      "text/html": [
       "<div>\n",
       "<style scoped>\n",
       "    .dataframe tbody tr th:only-of-type {\n",
       "        vertical-align: middle;\n",
       "    }\n",
       "\n",
       "    .dataframe tbody tr th {\n",
       "        vertical-align: top;\n",
       "    }\n",
       "\n",
       "    .dataframe thead th {\n",
       "        text-align: right;\n",
       "    }\n",
       "</style>\n",
       "<table border=\"1\" class=\"dataframe\">\n",
       "  <thead>\n",
       "    <tr style=\"text-align: right;\">\n",
       "      <th>Survival</th>\n",
       "      <th>0</th>\n",
       "      <th>1</th>\n",
       "      <th>All</th>\n",
       "    </tr>\n",
       "    <tr>\n",
       "      <th>Gender</th>\n",
       "      <th></th>\n",
       "      <th></th>\n",
       "      <th></th>\n",
       "    </tr>\n",
       "  </thead>\n",
       "  <tbody>\n",
       "    <tr>\n",
       "      <th>0</th>\n",
       "      <td>228</td>\n",
       "      <td>35</td>\n",
       "      <td>263</td>\n",
       "    </tr>\n",
       "    <tr>\n",
       "      <th>1</th>\n",
       "      <td>172</td>\n",
       "      <td>50</td>\n",
       "      <td>222</td>\n",
       "    </tr>\n",
       "    <tr>\n",
       "      <th>All</th>\n",
       "      <td>400</td>\n",
       "      <td>85</td>\n",
       "      <td>485</td>\n",
       "    </tr>\n",
       "  </tbody>\n",
       "</table>\n",
       "</div>"
      ],
      "text/plain": [
       "Survival    0   1  All\n",
       "Gender                \n",
       "0         228  35  263\n",
       "1         172  50  222\n",
       "All       400  85  485"
      ]
     },
     "execution_count": 12,
     "metadata": {},
     "output_type": "execute_result"
    }
   ],
   "source": [
    "pd.crosstab(df['Gender'],df['Survival'],margins=True)"
   ]
  },
  {
   "cell_type": "code",
   "execution_count": 26,
   "metadata": {
    "id": "PAe3sdeqoLnh"
   },
   "outputs": [
    {
     "data": {
      "text/html": [
       "<div>\n",
       "<style scoped>\n",
       "    .dataframe tbody tr th:only-of-type {\n",
       "        vertical-align: middle;\n",
       "    }\n",
       "\n",
       "    .dataframe tbody tr th {\n",
       "        vertical-align: top;\n",
       "    }\n",
       "\n",
       "    .dataframe thead th {\n",
       "        text-align: right;\n",
       "    }\n",
       "</style>\n",
       "<table border=\"1\" class=\"dataframe\">\n",
       "  <thead>\n",
       "    <tr style=\"text-align: right;\">\n",
       "      <th>Survival</th>\n",
       "      <th>0</th>\n",
       "      <th>1</th>\n",
       "    </tr>\n",
       "    <tr>\n",
       "      <th>Gender</th>\n",
       "      <th></th>\n",
       "      <th></th>\n",
       "    </tr>\n",
       "  </thead>\n",
       "  <tbody>\n",
       "    <tr>\n",
       "      <th>0</th>\n",
       "      <td>0.866920</td>\n",
       "      <td>0.133080</td>\n",
       "    </tr>\n",
       "    <tr>\n",
       "      <th>1</th>\n",
       "      <td>0.774775</td>\n",
       "      <td>0.225225</td>\n",
       "    </tr>\n",
       "  </tbody>\n",
       "</table>\n",
       "</div>"
      ],
      "text/plain": [
       "Survival         0         1\n",
       "Gender                      \n",
       "0         0.866920  0.133080\n",
       "1         0.774775  0.225225"
      ]
     },
     "execution_count": 26,
     "metadata": {},
     "output_type": "execute_result"
    }
   ],
   "source": [
    "pd.crosstab(df['Gender'],df['Survival'],normalize='index')"
   ]
  },
  {
   "cell_type": "markdown",
   "metadata": {
    "id": "Pf9boTsRpe9J"
   },
   "source": [
    "###6) Calculate the distribution of survival conditional on character sex.\n",
    "Hint: If you are working off of the in-class examples, it will be helpful to include character sex as the index variable. \n",
    "\n",
    "Describe your results in a sentence or two."
   ]
  },
  {
   "cell_type": "code",
   "execution_count": 27,
   "metadata": {
    "id": "ByWE_M1RpqSy"
   },
   "outputs": [
    {
     "data": {
      "text/html": [
       "<div>\n",
       "<style scoped>\n",
       "    .dataframe tbody tr th:only-of-type {\n",
       "        vertical-align: middle;\n",
       "    }\n",
       "\n",
       "    .dataframe tbody tr th {\n",
       "        vertical-align: top;\n",
       "    }\n",
       "\n",
       "    .dataframe thead th {\n",
       "        text-align: right;\n",
       "    }\n",
       "</style>\n",
       "<table border=\"1\" class=\"dataframe\">\n",
       "  <thead>\n",
       "    <tr style=\"text-align: right;\">\n",
       "      <th>Survival</th>\n",
       "      <th>0</th>\n",
       "      <th>1</th>\n",
       "    </tr>\n",
       "    <tr>\n",
       "      <th>Gender</th>\n",
       "      <th></th>\n",
       "      <th></th>\n",
       "    </tr>\n",
       "  </thead>\n",
       "  <tbody>\n",
       "    <tr>\n",
       "      <th>0</th>\n",
       "      <td>86.692015</td>\n",
       "      <td>13.307985</td>\n",
       "    </tr>\n",
       "    <tr>\n",
       "      <th>1</th>\n",
       "      <td>77.477477</td>\n",
       "      <td>22.522523</td>\n",
       "    </tr>\n",
       "  </tbody>\n",
       "</table>\n",
       "</div>"
      ],
      "text/plain": [
       "Survival          0          1\n",
       "Gender                        \n",
       "0         86.692015  13.307985\n",
       "1         77.477477  22.522523"
      ]
     },
     "execution_count": 27,
     "metadata": {},
     "output_type": "execute_result"
    }
   ],
   "source": [
    "pd.crosstab(df['Gender'],df['Survival'],normalize='index')*100"
   ]
  },
  {
   "cell_type": "markdown",
   "metadata": {
    "id": "RXPZZuAi3ccI"
   },
   "source": [
    "### 8) Perform the chi-square test above using `stats.chi2_contingency()` and output the p-value.\n"
   ]
  },
  {
   "cell_type": "code",
   "execution_count": 18,
   "metadata": {
    "id": "Ckcr4A4FM7cs"
   },
   "outputs": [
    {
     "name": "stdout",
     "output_type": "stream",
     "text": [
      "0.011104692591139975\n"
     ]
    }
   ],
   "source": [
    "from scipy.stats import chi2_contingency\n",
    "\n",
    "g, p, dof, expctd = chi2_contingency(pd.crosstab(df['Gender'],df['Survival']))\n",
    "\n",
    "print(p)"
   ]
  },
  {
   "cell_type": "markdown",
   "metadata": {
    "id": "6fuCbToDLTO0"
   },
   "source": [
    "### 10) Create a side-by-side bar plot to illustrate the relationship between character sex and survival in slasher movies.  Sum up your overall results in a sentence or two."
   ]
  },
  {
   "cell_type": "code",
   "execution_count": 52,
   "metadata": {
    "id": "Et5DtusY6maX"
   },
   "outputs": [
    {
     "data": {
      "text/plain": [
       "[<matplotlib.axis.XTick at 0x29a2962cb80>,\n",
       " <matplotlib.axis.XTick at 0x29a2962cb50>,\n",
       " <matplotlib.axis.XTick at 0x29a2962c1f0>,\n",
       " <matplotlib.axis.XTick at 0x29a2aaad5e0>,\n",
       " <matplotlib.axis.XTick at 0x29a2aaadca0>,\n",
       " <matplotlib.axis.XTick at 0x29a2aa9f0d0>,\n",
       " <matplotlib.axis.XTick at 0x29a2aa9f850>,\n",
       " <matplotlib.axis.XTick at 0x29a2aa860a0>,\n",
       " <matplotlib.axis.XTick at 0x29a2aa86730>,\n",
       " <matplotlib.axis.XTick at 0x29a2aa86e80>]"
      ]
     },
     "execution_count": 52,
     "metadata": {},
     "output_type": "execute_result"
    },
    {
     "data": {
      "image/png": "[encoded data removed]",
      "text/plain": [
       "<Figure size 432x288 with 1 Axes>"
      ]
     },
     "metadata": {
      "needs_background": "light"
     },
     "output_type": "display_data"
    }
   ],
   "source": [
    "import matplotlib.pyplot as plt\n",
    "\n",
    "N = 10 #Need this for graphing purposes - it's the number of passenger classes\n",
    "\n",
    "\n",
    "Died = (87, 77) # Percent that died in each ticket class\n",
    "Survived = (13, 23) #Percent that survived in each ticket class\n",
    "\n",
    "#This is more graphical stuff\n",
    "ind = np.arange(N)  # the x locations for the groups\n",
    "width = 0.35       # the width of the bars\n",
    "\n",
    "# print(ind)\n",
    "#Create the plot\n",
    "fig, ax = plt.subplots()\n",
    "rects1 = ax.bar(ind, Died[0], width, color='g') #bars for died\n",
    "rects2 = ax.bar(ind, Died[1], width, color='m') #bars for died\n",
    "\n",
    "rects3 = ax.bar(ind + width, Survived[0], width, color='c') #bars for survived\n",
    "rects4 = ax.bar(ind + width, Survived[1], width, color='b') #bars for survived\n",
    "\n",
    "\n",
    "# add some text for labels, title and axes ticks\n",
    "ax.set_ylabel('Percent')\n",
    "ax.set_title('Percent of Characters Who Survived and Did Not Survive by Gender')\n",
    "ax.set_xticks(ind + width / 2)\n",
    "# ax.set_xticklabels(('Male', 'Female'))\n",
    "\n",
    "# ax.legend((rects1[0], rects2[0]), ('Did not survive', 'Survived'))"
   ]
  },
  {
   "cell_type": "code",
   "execution_count": null,
   "metadata": {},
   "outputs": [],
   "source": []
  }
 ],
 "metadata": {
  "colab": {
   "collapsed_sections": [],
   "name": "Sprint 2 Fix My Code.ipynb",
   "provenance": [
    {
     "file_id": "1-bB1AG-ZYaa-BCmFQUEEOZFJJmoTr7yR",
     "timestamp": 1605807742443
    },
    {
     "file_id": "https://github.com/ryanleeallred/DS-Unit-1-Sprint-2-Statistics/blob/master/module2/LS_DS_122_Chi2_Tests_Assignment.ipynb",
     "timestamp": 1599294523568
    }
   ]
  },
  "kernelspec": {
   "display_name": "Python 3 (ipykernel)",
   "language": "python",
   "name": "python3"
  },
  "language_info": {
   "codemirror_mode": {
    "name": "ipython",
    "version": 3
   },
   "file_extension": ".py",
   "mimetype": "text/x-python",
   "name": "python",
   "nbconvert_exporter": "python",
   "pygments_lexer": "ipython3",
   "version": "3.9.7"
  }
 },
 "nbformat": 4,
 "nbformat_minor": 1
}
