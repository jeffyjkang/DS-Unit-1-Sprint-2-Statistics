{
 "cells": [
  {
   "cell_type": "markdown",
   "metadata": {
    "id": "Nd2OOOVXxXS1"
   },
   "source": [
    "This study guide should reinforce and provide practice for all of the concepts you have seen in Unit 1 Sprint 1. There are a mix of written questions and coding exercises, both are equally important to prepare you for the sprint challenge as well as to be able to speak on these topics comfortably in interviews and on the job.\n",
    "\n",
    "If you get stuck or are unsure of something remember the 20 minute rule. If that doesn't help, then research a solution with google and stackoverflow. Only once you have exausted these methods should you turn to your track team and mentor - they won't be there on your SC or during an interview. That being said, don't hesitate to ask for help if you truly are stuck.\n",
    "\n",
    "Have fun studying!"
   ]
  },
  {
   "cell_type": "markdown",
   "metadata": {
    "id": "fpvInKdXekFi"
   },
   "source": [
    "## Questions"
   ]
  },
  {
   "cell_type": "markdown",
   "metadata": {
    "id": "Q6bS8AhBZ86H"
   },
   "source": [
    "When completing this section, try to limit your answers to 2-3 sentences max and use plain english as much as possible. It's very easy to hide incomplete knowledge and undertanding behind fancy or technical words, so imagine you are explaining these things to a non-technical interviewer.\n",
    "\n",
    "1. Describe the Normal Distribution.\n",
    "```\n",
    "A variable that has a normal distribution would be where mean = median = mode\n",
    "Theoretical in nature, (bell curve) continuous probability distribution\n",
    "```\n",
    "\n",
    "2. What does the Central Limit Theorem tell us?\n",
    "```\n",
    "If you have a population with a mean and a standard deviation and take a sufficiently large random sample, the means will be approximately normally distributed\n",
    "```\n",
    "\n",
    "3. What does the Law of Large Numbers tell us?\n",
    "```\n",
    "The average of the results obtained from a large number of trials should be close to the expected value and will tend to become closer to the expected value as more trials are performed\n",
    "```\n",
    "\n",
    "4. What is the t-distribution and how does it relate to the Normal distribution?\n",
    "```\n",
    "Any member of a family of continuous probability distributions that arise when estimating the mean of a normally-distributed population in situations where the sample size is small and the population's standard deviation is unknown\n",
    "\n",
    "t-value: sample's mean and not the population mean.\n",
    "plot of distributions of all the t-values\n",
    "```\n",
    "\n",
    "5. What is the null hypothesis in a t-test?\n",
    "```\n",
    "H sub 0 : mu = reference value, (reject or fail to reject null hypothesis)\n",
    "```\n",
    "\n",
    "6. What is the alternative hypothesis in a t-test?\n",
    "````\n",
    "H sub a : mu != reference value\n",
    "```\n",
    "\n",
    "7. What is a significance level (also known as an alpha level)?\n",
    "```\n",
    "probability of rejecting the null hypothesis when it is true\n",
    "```\n",
    "\n",
    "8. What is a p-value?\n",
    "```\n",
    "Probability of observing our sample mean if the null hypothesis is true\n",
    "```\n",
    "\n",
    "9. How do you use the p-value and alpha level to determine if you should reject or fail to reject the null hypothesis?\n",
    "```\n",
    "p-value < alpha: reject the null hypothesis\n",
    "p-value > alpha: fail to reject the null hypothesis\n",
    "```\n",
    "\n",
    "10. Can you ever prove a null hypothesis is true?\n",
    "```\n",
    "no\n",
    "```\n",
    "\n",
    "11. Could you reject the null hypothesis at the alpha = 0.05 level but not at the 0.01 level?\n",
    "```\n",
    "yes, the lower the alpha value, the stricter the significance level\n",
    "5% - 1%\n",
    "```\n",
    "\n",
    "12. Could you reject the null hypothesis at the alpha = 0.05 level but not at the 0.10 level?\n",
    "```\n",
    "no, the lower the alpha value, the stricter the significance level\n",
    "the first case we would expect to reject the null hypothesis 5% of the time\n",
    "the second case we would expect to reject the null hypothesis 10% of the time\n",
    "```\n",
    "\n",
    "13. What are the null and alternative hypotheses for a chi-square test?\n",
    "```\n",
    "H sub 0: There is no relationship between two variables\n",
    "H sub a: There is a relationship between two variables\n",
    "```\n",
    "\n",
    "14. Explain the difference between a one-sample and two-sample t-test.\n",
    "```\n",
    "one-sample: we're comparing the mean of our sample data to a known value\n",
    "two-sample: to determine the t-value, you compare the means of two independent samples to a given variable\n",
    "```\n",
    "\n",
    "15. Explain the difference betwen a t-test and a chi-square test.\n",
    "```\n",
    "t-test: tests a null hypothesis about two means, either that two means are equal or difference between them are 0\n",
    "chi-square-test: tests a null hypothesis about the relationship between two variables\n",
    "```\n",
    "\n",
    "16. What do the terms \"frequency\" and \"relative frequency\" mean?\n",
    "```\n",
    "frequency: number of times a value of the data occurs\n",
    "relative frequency: ratio of the number of times a value of the data occurs in the set of all outcomes to the total number of outcomes\n",
    "```\n",
    "\n",
    "17. What is a statistical distribution?\n",
    "```\n",
    "Distribution of the relative number of times each possible outcome will occur in a number of trials\n",
    "```\n",
    "\n",
    "18. What is a joint distribution?\n",
    "```\n",
    "Distribution of the probability of two events happening together\n",
    "```\n",
    "\n",
    "19. What is a conditional distribution?\n",
    "```\n",
    "Probability distribution for a sub-population\n",
    "```\n",
    "\n",
    "20. What is a contingency table?\n",
    "```\n",
    "crosstabs or two-way-tables are used to summarize the relationship between several categorical variables\n",
    "```\n",
    "\n",
    "21. What is a marginal distribution?\n",
    "```\n",
    "probability distribution of the variables contained in the subset, gives the probabilities of various values of the variables in the subset without reference to the values of the other variables\n",
    "```\n",
    "\n",
    "22. What is the purpose of making a confidence interval?\n",
    "```\n",
    "interval computed from sample data by a method with a given probability C of producing an interval containing the true value of the parameter\n",
    "```\n",
    "\n",
    "23. What does it mean to be 95% confident?\n",
    "```\n",
    "95% confident that the confidence interval would contain the true population parameter\n",
    "```\n",
    "\n",
    "24. What is a margin of error?\n",
    "```\n",
    "the degree of error in results received from random sampling surveys\n",
    "```\n",
    "\n",
    "25. If your confidence level remains the same, will your confidence interval become wider or narrower if you increase your sample size?\n",
    "```\n",
    "narrower with a larger sample size\n",
    "```\n",
    "\n",
    "26. Which is more precise: a 90%, 95% or 99% confidence interval?\n",
    "```\n",
    "90%\n",
    "```\n",
    "\n",
    "27. Which is more accurate: a 90%, 95% or 99% confidence interval?\n",
    "```\n",
    "99%\n",
    "```\n",
    "\n",
    "28. Can you be 100% confident?\n",
    "```\n",
    "no\n",
    "```\n",
    "\n",
    "29. What is the law of conditional probability?\n",
    "```\n",
    "the probability of an event occurring given that another event has already occurred\n",
    "P(B|A) = P(A and B) / P(A)\n",
    "```\n",
    "\n",
    "30. Who was Reverend Bayes?  When did he live?\n",
    "```\n",
    "English statistician, philosopher, accredited to the Baye's theorem, a solution to the problem of inverse probability\n",
    "1701 - 1761\n",
    "```\n",
    "\n",
    "31. Describe the \"big idea\" of Bayesian statistics.\n",
    "```\n",
    "Initial belief + New data -> Improved belief\n",
    "```\n",
    "\n",
    "32. Describe two differences between the Bayesian and Frequentist approaches to data analysis.\n",
    "```\n",
    "Frequentist approach: focuses on variability of data, sampling distribution, repeated hypothetical experiments\n",
    "Bayesian approach: focuses on uncertainty of knowledge, data + prior belief\n",
    "```\n",
    "\n",
    "33. Who was Gosset?  When did he live?  What other name is he known by and why did he use a pseudonym?\n",
    "```\n",
    "Head brewer of guiness, statistician, lived in England, pseudonym was Student, devoloped t-distribution\n",
    "```\n",
    "\n",
    "People who will not be on the sprint challenge but you should know as a student of mathematics/computer science: \n",
    "\n",
    "Gauss\n",
    "\n",
    "Bernoulli\n",
    "\n",
    "Laplace\n",
    "\n",
    "Fisher\n",
    "\n",
    "(Karl) Pearson\n",
    "\n",
    "Turing\n",
    "\n",
    "Shannon"
   ]
  },
  {
   "cell_type": "markdown",
   "metadata": {
    "id": "dUQaIwbceohq"
   },
   "source": [
    "## Coding problems"
   ]
  },
  {
   "cell_type": "markdown",
   "metadata": {
    "id": "4jnYgnFjP6eE"
   },
   "source": [
    "Conduct a one-sample t-test\n"
   ]
  },
  {
   "cell_type": "code",
   "execution_count": 3,
   "metadata": {
    "id": "S9hFYrmqQlLA"
   },
   "outputs": [
    {
     "name": "stdout",
     "output_type": "stream",
     "text": [
      "   Drink  Caffeine\n",
      "0      1     47.32\n",
      "1      2     43.78\n",
      "2      3     48.12\n",
      "3      4     43.25\n",
      "4      5     46.42\n"
     ]
    },
    {
     "data": {
      "text/plain": [
       "Ttest_1sampResult(statistic=5.313255802097796, pvalue=2.620466428255138e-06)"
      ]
     },
     "execution_count": 3,
     "metadata": {},
     "output_type": "execute_result"
    }
   ],
   "source": [
    "import pandas as pd\n",
    "data_url = 'https://raw.githubusercontent.com/dansmyers/Statistics/master/Soda.csv'\n",
    "df = pd.read_csv(data_url)\n",
    "print(df.head())\n",
    "\n",
    "# population mean is equal to some ref value\n",
    "# Ho : mu = 34mg\n",
    "# Ha : mu != 34mg\n",
    "\n",
    "import scipy.stats as st\n",
    "pval = st.stats.ttest_1samp(df['Caffeine'], 34)\n",
    "pval\n",
    "# reject null hypothesis because p-value is less than significance level of 0.05"
   ]
  },
  {
   "cell_type": "markdown",
   "metadata": {
    "id": "bCbET5ioQlmQ"
   },
   "source": [
    "Conduct a two-sample t-test\n"
   ]
  },
  {
   "cell_type": "code",
   "execution_count": 6,
   "metadata": {
    "id": "lwNwPn5nQowi"
   },
   "outputs": [
    {
     "name": "stdout",
     "output_type": "stream",
     "text": [
      "   Gender  Age  Head  Brain\n",
      "0       1    1  4512   1530\n",
      "1       1    1  3738   1297\n",
      "2       1    1  4261   1335\n",
      "3       1    1  3777   1282\n",
      "4       1    1  4177   1590\n"
     ]
    },
    {
     "data": {
      "text/plain": [
       "Ttest_indResult(statistic=array([2.63553621]), pvalue=array([0.0089596]))"
      ]
     },
     "execution_count": 6,
     "metadata": {},
     "output_type": "execute_result"
    }
   ],
   "source": [
    "data_url = 'https://raw.githubusercontent.com/Chelsea-Myers/Lambda-Intro/master/Brainhead.csv'\n",
    "df = pd.read_csv(data_url)\n",
    "print(df.head())\n",
    "\n",
    "# two population means are equal\n",
    "# Ho : mu1 = mu2\n",
    "# Ha : mu1 != mu2\n",
    "\n",
    "younger_ = df[df['Age'] == 1]\n",
    "younger = younger_[['Brain']]\n",
    "older_ = df[df['Age'] == 2]\n",
    "older = older_[['Brain']]\n",
    "st.ttest_ind(younger,older)\n",
    "# reject null hypothesis because pvalue is less than alpha = 0.05"
   ]
  },
  {
   "cell_type": "markdown",
   "metadata": {
    "id": "2hq-PhcTQph7"
   },
   "source": [
    "Conduct a chi-square test"
   ]
  },
  {
   "cell_type": "code",
   "execution_count": 12,
   "metadata": {
    "id": "ZsWsuYwXRRP3"
   },
   "outputs": [
    {
     "name": "stdout",
     "output_type": "stream",
     "text": [
      "   Pageview    Group  Click\n",
      "0         0  Control      1\n",
      "1         1  Control      1\n",
      "2         2  Control      1\n",
      "3         3  Control      1\n",
      "4         4  Control      1\n",
      "0.006606036478633042\n",
      "0.9352212452988706\n",
      "1\n",
      "[[317155.22896887  28387.77103113]\n",
      " [316344.77103113  28315.22896887]]\n"
     ]
    }
   ],
   "source": [
    "data_url = 'https://raw.githubusercontent.com/LambdaSchool/data-science-practice-datasets/main/unit_1/Udacity%20AB%20testing%20data/AB_test_clicks.csv'\n",
    "df = pd.read_csv(data_url)\n",
    "print(df.head())\n",
    "from scipy.stats import chi2_contingency\n",
    "\n",
    "g,p,dof,expctd = chi2_contingency(pd.crosstab(index=df['Group'], columns=df['Click']))\n",
    "print(g)\n",
    "print(p)\n",
    "print(dof)\n",
    "print(expctd)"
   ]
  },
  {
   "cell_type": "markdown",
   "metadata": {
    "id": "jVqQYLgxld7M"
   },
   "source": [
    "Calculate a frequency and relative frequency"
   ]
  },
  {
   "cell_type": "code",
   "execution_count": 17,
   "metadata": {
    "id": "ScovMuwvRdtq"
   },
   "outputs": [
    {
     "name": "stdout",
     "output_type": "stream",
     "text": [
      "Control       345543\n",
      "Experiment    344660\n",
      "Name: Group, dtype: int64 Control       50.063967\n",
      "Experiment    49.936033\n",
      "Name: Group, dtype: float64\n",
      "0    633500\n",
      "1     56703\n",
      "Name: Click, dtype: int64 0    91.784591\n",
      "1     8.215409\n",
      "Name: Click, dtype: float64\n"
     ]
    }
   ],
   "source": [
    "group_freq = df['Group'].value_counts()\n",
    "group_pct = df['Group'].value_counts(normalize = True) * 100\n",
    "clicks_freq = df['Click'].value_counts()\n",
    "clicks_pct = df['Click'].value_counts(normalize = True) * 100\n",
    "print(group_freq, group_pct)\n",
    "print(clicks_freq, clicks_pct)"
   ]
  },
  {
   "cell_type": "markdown",
   "metadata": {
    "id": "uD5cTw9plh9c"
   },
   "source": [
    "Calculate a joint distribution and add on the marginal distributions."
   ]
  },
  {
   "cell_type": "code",
   "execution_count": 18,
   "metadata": {
    "id": "XlazD59ClhXi"
   },
   "outputs": [
    {
     "name": "stdout",
     "output_type": "stream",
     "text": [
      "Click            0      1\n",
      "Group                    \n",
      "Control     317165  28378\n",
      "Experiment  316335  28325\n",
      "Click            0      1     All\n",
      "Group                            \n",
      "Control     317165  28378  345543\n",
      "Experiment  316335  28325  344660\n",
      "All         633500  56703  690203\n"
     ]
    }
   ],
   "source": [
    "joint_dist = pd.crosstab(index=df['Group'],columns=df['Click'])\n",
    "marginal_dist = pd.crosstab(index=df['Group'],columns=df['Click'], margins=True)\n",
    "print(joint_dist)\n",
    "print(marginal_dist)"
   ]
  },
  {
   "cell_type": "markdown",
   "metadata": {
    "id": "JyThYBHGlm60"
   },
   "source": [
    "Calculate a conditional distribution"
   ]
  },
  {
   "cell_type": "code",
   "execution_count": 20,
   "metadata": {
    "id": "pr_vT8VSmK6J"
   },
   "outputs": [
    {
     "name": "stdout",
     "output_type": "stream",
     "text": [
      "Click               0         1\n",
      "Group                          \n",
      "Control     91.787419  8.212581\n",
      "Experiment  91.781756  8.218244\n"
     ]
    }
   ],
   "source": [
    "conditional_dist = pd.crosstab(index=df['Group'], columns = df['Click'], normalize='index') * 100\n",
    "print(conditional_dist)"
   ]
  },
  {
   "cell_type": "markdown",
   "metadata": {
    "id": "jsVSa5EXnS_o"
   },
   "source": [
    "Calculate a confidence interval for a population mean."
   ]
  },
  {
   "cell_type": "code",
   "execution_count": 25,
   "metadata": {
    "id": "mmdHcvXznVec"
   },
   "outputs": [
    {
     "name": "stdout",
     "output_type": "stream",
     "text": [
      "    ID  Body_temp\n",
      "0   36       96.7\n",
      "1  254       96.9\n",
      "2  282       97.0\n",
      "3  286       97.0\n",
      "4  302       97.0\n",
      "98.16502242152464 223\n"
     ]
    },
    {
     "data": {
      "text/plain": [
       "(98.09543489049658, 98.2346099525527)"
      ]
     },
     "execution_count": 25,
     "metadata": {},
     "output_type": "execute_result"
    }
   ],
   "source": [
    "data_url = 'https://raw.githubusercontent.com/Chelsea-Myers/Lambda-Intro/master/Bodytemp.csv'\n",
    "df = pd.read_csv(data_url)\n",
    "\n",
    "print(df.head())\n",
    "\n",
    "from scipy.stats import t\n",
    "import numpy as np\n",
    "mean = df['Body_temp'].mean()\n",
    "n = df['Body_temp'].count()\n",
    "sd = df['Body_temp'].std()\n",
    "se = sd / np.sqrt(n)\n",
    "print(mean, n)\n",
    "# alpha 0.95 means we want a 95% CI\n",
    "t.interval(alpha = 0.95, df = n - 1, loc = mean, scale = se)"
   ]
  },
  {
   "cell_type": "markdown",
   "metadata": {
    "id": "gmYQEUVtnVrS"
   },
   "source": [
    "Calculate a Bayesian confidence interval."
   ]
  },
  {
   "cell_type": "code",
   "execution_count": 28,
   "metadata": {
    "id": "bs4t6foXnXyC"
   },
   "outputs": [
    {
     "name": "stdout",
     "output_type": "stream",
     "text": [
      "   Survived  Pclass                                               Name  \\\n",
      "0         0       3                             Mr. Owen Harris Braund   \n",
      "1         1       1  Mrs. John Bradley (Florence Briggs Thayer) Cum...   \n",
      "2         1       3                              Miss. Laina Heikkinen   \n",
      "3         1       1        Mrs. Jacques Heath (Lily May Peel) Futrelle   \n",
      "4         0       3                            Mr. William Henry Allen   \n",
      "\n",
      "      Sex   Age  Siblings/Spouses_Aboard  Parents/Children_Aboard     Fare  \n",
      "0    male  22.0                        1                        0   7.2500  \n",
      "1  female  38.0                        1                        0  71.2833  \n",
      "2  female  26.0                        0                        0   7.9250  \n",
      "3  female  35.0                        1                        0  53.1000  \n",
      "4    male  35.0                        0                        0   8.0500  \n",
      "0.19022687609075042\n"
     ]
    }
   ],
   "source": [
    "# P(A|B) = P(A and B) / P(B)\n",
    "import pandas as pd\n",
    "import numpy as np\n",
    "\n",
    "data_url = 'https://raw.githubusercontent.com/Chelsea-Myers/Lambda-Intro/master/Titanic.csv'\n",
    "df = pd.read_csv(data_url)\n",
    "print(df.head())\n",
    "\n",
    "pd.crosstab(df['Sex'], df['Survived'], margins=True)\n",
    "\n",
    "P_B = 573 / 887\n",
    "P_A_and_B = 109/ 887\n",
    "P_A_given_B = P_A_and_B / P_B\n",
    "print(P_A_given_B)"
   ]
  },
  {
   "cell_type": "code",
   "execution_count": null,
   "metadata": {},
   "outputs": [],
   "source": []
  }
 ],
 "metadata": {
  "colab": {
   "collapsed_sections": [],
   "name": "Unit 1 Sprint 2 - Study Guide.ipynb",
   "provenance": [
    {
     "file_id": "1cYxC-SRCqZgg2hDcohxHdU--8HB-46aO",
     "timestamp": 1601892565893
    },
    {
     "file_id": "1lAICG6khpXBJmRXvaMlctWrxm8QhxI5R",
     "timestamp": 1601310442388
    },
    {
     "file_id": "10T4m64dmfLsGA91j2v5c5yG7rUzBqB2Q",
     "timestamp": 1578879651220
    },
    {
     "file_id": "1SGnO8ZjDtlDUKnPMbzT9QHCO4Fne-fyB",
     "timestamp": 1573058832416
    }
   ]
  },
  "kernelspec": {
   "display_name": "Python 3 (ipykernel)",
   "language": "python",
   "name": "python3"
  },
  "language_info": {
   "codemirror_mode": {
    "name": "ipython",
    "version": 3
   },
   "file_extension": ".py",
   "mimetype": "text/x-python",
   "name": "python",
   "nbconvert_exporter": "python",
   "pygments_lexer": "ipython3",
   "version": "3.9.7"
  }
 },
 "nbformat": 4,
 "nbformat_minor": 1
}
